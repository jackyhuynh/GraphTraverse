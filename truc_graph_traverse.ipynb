{
 "cells": [
  {
   "cell_type": "markdown",
   "id": "6b011317",
   "metadata": {},
   "source": [
    "# Information\n",
    "- Truc Huynh\n",
    "- AI Academy"
   ]
  },
  {
   "cell_type": "markdown",
   "id": "1edad26e",
   "metadata": {},
   "source": [
    "# Project Description\n",
    "\n",
    "This exercise has two parts. First you will import and then create a network graph to represent the data. Next you will create a program that utilizes the data.\n",
    "\n",
    "### Requirement: \n",
    "Do not use any additional Python libraries with the exception of matplotlib and networkx.\n",
    "\n",
    "- [matplotlib](https://matplotlib.org/stable/plot_types/index.html)\n",
    "- [networkx](https://networkx.org/documentation/stable/tutorial.html#attributes)\n",
    "- [shortest path function & length using networkx](https://networkx.org/documentation/stable/reference/algorithms/shortest_paths.html)\n",
    "\n",
    "#### Part 1\n",
    "\n",
    "- Write Python code to complete the following:\n",
    "- Load in the attached plain text file and generate a unique class RoadDict that uses a dictionary representation to store all of the roads in the file.  Each line has a starting city, ending city, and distance in miles.\n",
    "- Define a new CityGraph class that stores the road network using a networkx graph structure and use it to print a graph of the cities. Example output shown below in Figure 1.\n",
    "\n",
    "#### Part 2\n",
    "Using the data imported in Part 1, write Python code to complete the following:\n",
    "\n",
    "##### Inputs\n",
    "Ask for a start and end city from the user.\n",
    "\n",
    "##### Outputs\n",
    "- Perform a breadth first search on the graph and return the path found (intermediate cities) along with the miles traversed.\n",
    "- Perform a depth first search on the graph and return the path found along with the miles traversed. "
   ]
  },
  {
   "cell_type": "code",
   "execution_count": 1,
   "id": "739c0325",
   "metadata": {},
   "outputs": [],
   "source": [
    "# Required library\n",
    "\n",
    "import matplotlib.pyplot as plt\n",
    "import networkx as nx"
   ]
  },
  {
   "cell_type": "code",
   "execution_count": 2,
   "id": "5c00c309",
   "metadata": {},
   "outputs": [],
   "source": [
    "\"\"\"\n",
    "# openfile read input from textfile\n",
    "# In fact, I test the data on different jupiter notebook and come up with the shortest version\n",
    "\"\"\"\n",
    "\n",
    "\n",
    "def openfile(filename):\n",
    "    with open(filename, \"r\") as file_reader:\n",
    "        all_lines = file_reader.readlines()\n",
    "    return all_lines"
   ]
  },
  {
   "cell_type": "code",
   "execution_count": 3,
   "id": "07db0f9f",
   "metadata": {},
   "outputs": [],
   "source": [
    "\"\"\"\n",
    "create_data(data): take parameter data, remove all the newline, space and then convert each line to a tuple\n",
    "create RoadDict dictionary and list of tuple clean_data\n",
    "\"\"\"\n",
    "\n",
    "\n",
    "def create_data(data):\n",
    "    clean_data = []\n",
    "    road_dict = {}\n",
    "    count = 0\n",
    "    # Clean the data by using for loop\n",
    "    for line in data:\n",
    "        line = line.replace('\\n', '').replace(' ', '').split(',')\n",
    "        road_dict[count] = {'citi1': line[0], 'citi2': line[1], 'distance': line[2]}\n",
    "        clean_data.append((line[0], line[1], float(line[2])))\n",
    "        count += 1\n",
    "    return clean_data, road_dict"
   ]
  },
  {
   "cell_type": "code",
   "execution_count": 4,
   "id": "5114b211",
   "metadata": {},
   "outputs": [],
   "source": [
    "\"\"\"\n",
    "Simple get the input from user, and validation, to make sure it not crash the application\n",
    "\"\"\"\n",
    "\n",
    "\n",
    "def get_user_input(cities, purpose):\n",
    "    user_input = input(f\"Please enter the {purpose} city: \").capitalize()\n",
    "    while user_input not in cities:\n",
    "        cities_display(cities)\n",
    "        user_input = input(f\"Please enter the {purpose} city again: \").capitalize()\n",
    "\n",
    "    return user_input"
   ]
  },
  {
   "cell_type": "code",
   "execution_count": 5,
   "id": "c65b69ec",
   "metadata": {},
   "outputs": [],
   "source": [
    "\"\"\"\n",
    "Print out the cities in the list\n",
    "\"\"\"\n",
    "\n",
    "\n",
    "def cities_display(cities):\n",
    "    print(\"Target city and Destination city must be:\")\n",
    "    for citi in cities:\n",
    "        print(citi, end=', ')\n",
    "\n",
    "    print('')"
   ]
  },
  {
   "cell_type": "markdown",
   "id": "9c104594",
   "metadata": {},
   "source": [
    "## Bread First Search Function\n",
    "Implement bread first search algorithm to find the shotest path between 2 cities"
   ]
  },
  {
   "cell_type": "code",
   "execution_count": 6,
   "id": "69c27a47",
   "metadata": {},
   "outputs": [],
   "source": [
    "\"\"\"\n",
    "bread_first_search_graph(graph, start, end)\n",
    "measure the shortest path between 2 cities\n",
    "+ start is the name of start citi\n",
    "+ end is the destination citi\n",
    "+ graph is the adjency graph\n",
    "\"\"\"\n",
    "\n",
    "def bread_first_search_graph(graph, start, end):\n",
    "    explored = []\n",
    "     \n",
    "    # Using a queue to tempolary store the path\n",
    "    queue = [[start]]\n",
    "     \n",
    "    if start == end:\n",
    "        print(\"Same citi are being search!\")\n",
    "        return start\n",
    "     \n",
    "    # while queue has note\n",
    "    while queue:\n",
    "        path = queue.pop(0)\n",
    "        node = path[-1]\n",
    "         \n",
    "        # Condition to check if the current node is not visited\n",
    "        if node not in explored:\n",
    "            neighbours = graph[node]\n",
    "             \n",
    "            for neighbour in neighbours:\n",
    "                new_path = list(path)\n",
    "                new_path.append(neighbour)\n",
    "                queue.append(new_path)\n",
    "                 \n",
    "                # Arrived at destination:\n",
    "                if neighbour == end:\n",
    "                    return new_path\n",
    "            explored.append(node)\n",
    "\n",
    "    print(\"No connection between 2 cities\")"
   ]
  },
  {
   "cell_type": "markdown",
   "id": "e9641b1d",
   "metadata": {},
   "source": [
    "## Depth First Traverse\n",
    "I was not able to implement the depth first search to solve this problem. I would be able to implement the A* Search (Google), the Bellman Algorithm or the Dijkstra Algorithm, but I run out of time at this point so I just implement Depth First Traverse for the Depth First Search"
   ]
  },
  {
   "cell_type": "code",
   "execution_count": 7,
   "id": "ffbea1fd",
   "metadata": {},
   "outputs": [],
   "source": [
    "# Implement the dept first search to travel the whole graph\n",
    "\n",
    "def dept_first_search_graph(graph, start, visited):\n",
    "    if start not in visited:\n",
    "        visited.append(start)\n",
    "        for k in graph[start]:\n",
    "            dept_first_search_graph(graph, k, visited)\n",
    "            \n",
    "    return visited"
   ]
  },
  {
   "cell_type": "markdown",
   "id": "62e3042a",
   "metadata": {},
   "source": [
    "## Function measure the distance(length) between 2 cities"
   ]
  },
  {
   "cell_type": "code",
   "execution_count": 8,
   "id": "6e688532",
   "metadata": {},
   "outputs": [],
   "source": [
    "\"\"\"\n",
    "Function to measure distance between 2 cities\n",
    "\"\"\"\n",
    "\n",
    "\n",
    "def distance_length(graph, start, end, graph_data):\n",
    "    shortest_pair_cities=[]\n",
    "    total=0\n",
    "    \n",
    "    # return if same citi are being search\n",
    "    if start == end:\n",
    "        print(\"Same citi are being search!\")\n",
    "        return 0\n",
    "    \n",
    "    # find the shortest path between 2 citi\n",
    "    explored = bread_first_search_graph(adjacency_dict, start, end)\n",
    "    \n",
    "    # generate the pairs of data so that we can find the distance later\n",
    "    for index in range(1,len(explored)):\n",
    "        shortest_pair_cities.append([explored[index-1],explored[index]])\n",
    "    \n",
    "    # get the distance from the tupple \n",
    "    for pair in shortest_pair_cities:\n",
    "        for data in graph_data:\n",
    "            if pair[0] in data and pair [1] in data:\n",
    "                total += data[2]\n",
    "\n",
    "    return total"
   ]
  },
  {
   "cell_type": "markdown",
   "id": "8deb2b04",
   "metadata": {},
   "source": [
    "### Data Preparation:\n"
   ]
  },
  {
   "cell_type": "code",
   "execution_count": 9,
   "id": "6aab39ae",
   "metadata": {},
   "outputs": [],
   "source": [
    "# Data Preparation:\n",
    "# create RoadDict as requirement and graph_data to feed in networkx to create graphs\n",
    "graph_data, road_dict= create_data(openfile(\"frenchcities.txt\"))\n",
    "# create multi graph using networkx\n",
    "multi_graph = nx.MultiGraph()\n",
    "multi_graph.add_weighted_edges_from(graph_data)\n",
    "\n",
    "# Convert the graph to dictionary with weight\n",
    "multi_graph_dict = dict(multi_graph.degree(weight='weight'))\n",
    "\n",
    "# create the city list for validation only\n",
    "cities_list = list(multi_graph_dict)\n",
    "\n",
    "# create a list of pair\n",
    "list_of_pair = []\n",
    "for data in graph_data:\n",
    "    list_of_pair.append([data[0],data[1]])"
   ]
  },
  {
   "cell_type": "markdown",
   "id": "a6a0e792",
   "metadata": {},
   "source": [
    "## Create the adjacency dictionary"
   ]
  },
  {
   "cell_type": "code",
   "execution_count": 10,
   "id": "091a8d7d",
   "metadata": {},
   "outputs": [],
   "source": [
    "\"\"\"\n",
    "adjacency_dict is important as we use it through the programs for shortest path\n",
    "\"\"\"\n",
    "# Create the adjacency dictionary:\n",
    "adjacency_dict = {}\n",
    "\n",
    "for citi in cities_list:\n",
    "    # create a new dependancy for each citi\n",
    "    adjacency_dict[citi] = []\n",
    "    \n",
    "    for pair in list_of_pair:\n",
    "        # if the citi is not is not in the pair\n",
    "        if citi not in pair:\n",
    "            pass\n",
    "        else:\n",
    "            # iterate through each citi pair\n",
    "            for data in pair:\n",
    "                # if the citi in pair is the key of the dictinary: pass\n",
    "                if citi == data:\n",
    "                    pass\n",
    "                else:\n",
    "                    # else append the found citi to the adjacency list\n",
    "                    adjacency_dict[citi].append(data)"
   ]
  },
  {
   "cell_type": "markdown",
   "id": "0aac15d0",
   "metadata": {},
   "source": [
    "### Data Validation"
   ]
  },
  {
   "cell_type": "code",
   "execution_count": 11,
   "id": "a2b5fa45",
   "metadata": {},
   "outputs": [
    {
     "name": "stdout",
     "output_type": "stream",
     "text": [
      "Brest : ['Rennes']\n",
      "Rennes : ['Brest', 'Nantes', 'Paris', 'Caen']\n",
      "Nantes : ['Rennes', 'Limoges', 'Bordeaux']\n",
      "Paris : ['Rennes', 'Limoges', 'Caen', 'Calais', 'Nancy', 'Dijon']\n",
      "Caen : ['Rennes', 'Paris', 'Calais']\n",
      "Limoges : ['Nantes', 'Paris', 'Lyon', 'Toulouse', 'Bordeaux']\n",
      "Bordeaux : ['Nantes', 'Limoges', 'Toulouse']\n",
      "Lyon : ['Limoges', 'Dijon', 'Grenoble', 'Avignon']\n",
      "Toulouse : ['Limoges', 'Bordeaux', 'Montpellier']\n",
      "Calais : ['Paris', 'Caen', 'Nancy']\n",
      "Nancy : ['Paris', 'Calais', 'Strasbourg', 'Dijon']\n",
      "Dijon : ['Paris', 'Nancy', 'Strasbourg', 'Lyon']\n",
      "Strasbourg : ['Nancy', 'Dijon']\n",
      "Montpellier : ['Toulouse', 'Avignon']\n",
      "Avignon : ['Montpellier', 'Lyon', 'Grenoble', 'Marseille']\n",
      "Grenoble : ['Lyon', 'Avignon']\n",
      "Marseille : ['Avignon', 'Nice']\n",
      "Nice : ['Marseille']\n"
     ]
    }
   ],
   "source": [
    "# print(adjacency_dict) for graph traverse\n",
    "for citi in adjacency_dict:\n",
    "    print(citi,':',adjacency_dict[citi])"
   ]
  },
  {
   "cell_type": "code",
   "execution_count": 12,
   "id": "d9b20303",
   "metadata": {},
   "outputs": [
    {
     "name": "stdout",
     "output_type": "stream",
     "text": [
      "0 {'citi1': 'Brest', 'citi2': 'Rennes', 'distance': '244'}\n",
      "1 {'citi1': 'Rennes', 'citi2': 'Nantes', 'distance': '107'}\n",
      "2 {'citi1': 'Rennes', 'citi2': 'Paris', 'distance': '348'}\n",
      "3 {'citi1': 'Rennes', 'citi2': 'Caen', 'distance': '176'}\n",
      "4 {'citi1': 'Nantes', 'citi2': 'Limoges', 'distance': '329'}\n",
      "5 {'citi1': 'Nantes', 'citi2': 'Bordeaux', 'distance': '329'}\n",
      "6 {'citi1': 'Limoges', 'citi2': 'Paris', 'distance': '396'}\n",
      "7 {'citi1': 'Limoges', 'citi2': 'Lyon', 'distance': '389'}\n",
      "8 {'citi1': 'Limoges', 'citi2': 'Toulouse', 'distance': '313'}\n",
      "9 {'citi1': 'Limoges', 'citi2': 'Bordeaux', 'distance': '220'}\n",
      "10 {'citi1': 'Paris', 'citi2': 'Caen', 'distance': '241'}\n",
      "11 {'citi1': 'Paris', 'citi2': 'Calais', 'distance': '297'}\n",
      "12 {'citi1': 'Paris', 'citi2': 'Nancy', 'distance': '372'}\n",
      "13 {'citi1': 'Paris', 'citi2': 'Dijon', 'distance': '313'}\n",
      "14 {'citi1': 'Caen', 'citi2': 'Calais', 'distance': '120'}\n",
      "15 {'citi1': 'Calais', 'citi2': 'Nancy', 'distance': '534'}\n",
      "16 {'citi1': 'Nancy', 'citi2': 'Strasbourg', 'distance': '145'}\n",
      "17 {'citi1': 'Nancy', 'citi2': 'Dijon', 'distance': '201'}\n",
      "18 {'citi1': 'Dijon', 'citi2': 'Strasbourg', 'distance': '335'}\n",
      "19 {'citi1': 'Bordeaux', 'citi2': 'Toulouse', 'distance': '253'}\n",
      "20 {'citi1': 'Toulouse', 'citi2': 'Montpellier', 'distance': '240'}\n",
      "21 {'citi1': 'Montpellier', 'citi2': 'Avignon', 'distance': '121'}\n",
      "22 {'citi1': 'Dijon', 'citi2': 'Lyon', 'distance': '192'}\n",
      "23 {'citi1': 'Lyon', 'citi2': 'Grenoble', 'distance': '104'}\n",
      "24 {'citi1': 'Lyon', 'citi2': 'Avignon', 'distance': '216'}\n",
      "25 {'citi1': 'Avignon', 'citi2': 'Grenoble', 'distance': '227'}\n",
      "26 {'citi1': 'Avignon', 'citi2': 'Marseille', 'distance': '99'}\n",
      "27 {'citi1': 'Marseille', 'citi2': 'Nice', 'distance': '188'}\n"
     ]
    }
   ],
   "source": [
    "# the road_dictionay store the road dict\n",
    "for road in road_dict:\n",
    "    print(road, road_dict[road])"
   ]
  },
  {
   "cell_type": "code",
   "execution_count": 13,
   "id": "9d04685e",
   "metadata": {},
   "outputs": [
    {
     "name": "stdout",
     "output_type": "stream",
     "text": [
      "('Brest', 'Rennes', 244.0)\n",
      "('Rennes', 'Nantes', 107.0)\n",
      "('Rennes', 'Paris', 348.0)\n",
      "('Rennes', 'Caen', 176.0)\n",
      "('Nantes', 'Limoges', 329.0)\n",
      "('Nantes', 'Bordeaux', 329.0)\n",
      "('Limoges', 'Paris', 396.0)\n",
      "('Limoges', 'Lyon', 389.0)\n",
      "('Limoges', 'Toulouse', 313.0)\n",
      "('Limoges', 'Bordeaux', 220.0)\n",
      "('Paris', 'Caen', 241.0)\n",
      "('Paris', 'Calais', 297.0)\n",
      "('Paris', 'Nancy', 372.0)\n",
      "('Paris', 'Dijon', 313.0)\n",
      "('Caen', 'Calais', 120.0)\n",
      "('Calais', 'Nancy', 534.0)\n",
      "('Nancy', 'Strasbourg', 145.0)\n",
      "('Nancy', 'Dijon', 201.0)\n",
      "('Dijon', 'Strasbourg', 335.0)\n",
      "('Bordeaux', 'Toulouse', 253.0)\n",
      "('Toulouse', 'Montpellier', 240.0)\n",
      "('Montpellier', 'Avignon', 121.0)\n",
      "('Dijon', 'Lyon', 192.0)\n",
      "('Lyon', 'Grenoble', 104.0)\n",
      "('Lyon', 'Avignon', 216.0)\n",
      "('Avignon', 'Grenoble', 227.0)\n",
      "('Avignon', 'Marseille', 99.0)\n",
      "('Marseille', 'Nice', 188.0)\n"
     ]
    }
   ],
   "source": [
    "# graph data store the road length between 2 citi (edge)\n",
    "for data in graph_data:\n",
    "    print(data)"
   ]
  },
  {
   "cell_type": "markdown",
   "id": "90b806b2",
   "metadata": {},
   "source": [
    "## Functional testing"
   ]
  },
  {
   "cell_type": "code",
   "execution_count": 14,
   "id": "3aec98be",
   "metadata": {},
   "outputs": [
    {
     "data": {
      "text/plain": [
       "['Nantes', 'Limoges', 'Lyon', 'Avignon', 'Marseille', 'Nice']"
      ]
     },
     "execution_count": 14,
     "metadata": {},
     "output_type": "execute_result"
    }
   ],
   "source": [
    "# Using our self made fuction to find the shotest path\n",
    "bread_first_search_graph(adjacency_dict, 'Nantes', 'Nice')\n"
   ]
  },
  {
   "cell_type": "code",
   "execution_count": 15,
   "id": "63d86411",
   "metadata": {},
   "outputs": [
    {
     "data": {
      "text/plain": [
       "['Nantes', 'Limoges', 'Lyon', 'Avignon', 'Marseille', 'Nice']"
      ]
     },
     "execution_count": 15,
     "metadata": {},
     "output_type": "execute_result"
    }
   ],
   "source": [
    "# using networkx to validate the result (dijkstra Algorithm)\n",
    "nx.dijkstra_path(multi_graph, 'Nantes', 'Nice')"
   ]
  },
  {
   "cell_type": "code",
   "execution_count": 16,
   "id": "0750a455",
   "metadata": {},
   "outputs": [
    {
     "data": {
      "text/plain": [
       "['Nantes', 'Limoges', 'Lyon', 'Avignon', 'Marseille', 'Nice']"
      ]
     },
     "execution_count": 16,
     "metadata": {},
     "output_type": "execute_result"
    }
   ],
   "source": [
    "# using networkx to validate the result (bellman_Ford Algorithm)\n",
    "nx.bellman_ford_path(multi_graph, 'Nantes', 'Nice')"
   ]
  },
  {
   "cell_type": "code",
   "execution_count": 17,
   "id": "2f53f444",
   "metadata": {},
   "outputs": [
    {
     "data": {
      "text/plain": [
       "1221.0"
      ]
     },
     "execution_count": 17,
     "metadata": {},
     "output_type": "execute_result"
    }
   ],
   "source": [
    "distance_length(adjacency_dict, 'Nantes', 'Nice', graph_data)"
   ]
  },
  {
   "cell_type": "code",
   "execution_count": 18,
   "id": "731f5128",
   "metadata": {},
   "outputs": [
    {
     "name": "stdout",
     "output_type": "stream",
     "text": [
      "Depth First Search Traverse: ['Brest', 'Rennes', 'Nantes', 'Limoges', 'Paris', 'Caen', 'Calais', 'Nancy', 'Strasbourg', 'Dijon', 'Lyon', 'Grenoble', 'Avignon', 'Montpellier', 'Toulouse', 'Bordeaux', 'Marseille', 'Nice']\n"
     ]
    }
   ],
   "source": [
    "# Depth first traverse\n",
    "print(f\"Depth First Search Traverse: {dept_first_search_graph(adjacency_dict,'Brest', [])}\")"
   ]
  },
  {
   "cell_type": "markdown",
   "id": "200816e6",
   "metadata": {},
   "source": [
    "### Task 1: Draw Graph"
   ]
  },
  {
   "cell_type": "code",
   "execution_count": 19,
   "id": "1fd79824",
   "metadata": {},
   "outputs": [
    {
     "data": {
      "image/png": "[encoded data removed]",
      "text/plain": [
       "<Figure size 432x288 with 1 Axes>"
      ]
     },
     "metadata": {},
     "output_type": "display_data"
    }
   ],
   "source": [
    "# Task 1: print out the data\n",
    "nx.draw(multi_graph, with_labels=True, font_weight='bold')\n",
    "plt.show()"
   ]
  },
  {
   "cell_type": "markdown",
   "id": "12f2848c",
   "metadata": {},
   "source": [
    "### Task 2:\n",
    "- breadfirst search and depth first search"
   ]
  },
  {
   "cell_type": "code",
   "execution_count": 20,
   "id": "6565226e",
   "metadata": {},
   "outputs": [
    {
     "name": "stdout",
     "output_type": "stream",
     "text": [
      "Target city and Destination city must be:\n",
      "Brest, Rennes, Nantes, Paris, Caen, Limoges, Bordeaux, Lyon, Toulouse, Calais, Nancy, Dijon, Strasbourg, Montpellier, Avignon, Grenoble, Marseille, Nice, \n",
      "Please enter the target city: nice\n",
      "Please enter the destination city: paris\n",
      "BFS: Cities need to travel: ['Nice', 'Marseille', 'Avignon', 'Lyon', 'Limoges', 'Paris'], total distance: 1288.0 Km\n"
     ]
    }
   ],
   "source": [
    "# Task 2:\n",
    "cities_display(cities_list)\n",
    "target = get_user_input(cities_list, \"target\")\n",
    "destination = get_user_input(cities_list, \"destination\")\n",
    "\n",
    "# Using Kilometer because it is the standard measurement in France:\n",
    "\n",
    "# Searching using Bread First Search\n",
    "print(f\"BFS: Cities need to travel: {bread_first_search_graph(adjacency_dict, target, destination)}, \"\n",
    "        f\"total distance: {distance_length(adjacency_dict, target, destination, graph_data)} Km\")\n"
   ]
  }
 ],
 "metadata": {
  "kernelspec": {
   "display_name": "Python 3",
   "language": "python",
   "name": "python3"
  },
  "language_info": {
   "codemirror_mode": {
    "name": "ipython",
    "version": 3
   },
   "file_extension": ".py",
   "mimetype": "text/x-python",
   "name": "python",
   "nbconvert_exporter": "python",
   "pygments_lexer": "ipython3",
   "version": "3.8.8"
  }
 },
 "nbformat": 4,
 "nbformat_minor": 5
}
