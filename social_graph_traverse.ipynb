{
 "cells": [
  {
   "cell_type": "code",
   "execution_count": 1,
   "id": "066815d0",
   "metadata": {},
   "outputs": [],
   "source": [
    "import matplotlib.pyplot as plt\n",
    "import networkx as nx"
   ]
  },
  {
   "cell_type": "code",
   "execution_count": 2,
   "id": "6a45833d",
   "metadata": {},
   "outputs": [],
   "source": [
    "\"\"\"\n",
    "# openfile read input from textfile\n",
    "# In fact, I test the data on different jupiter notebook and come up with the shortest version\n",
    "\"\"\"\n",
    "\n",
    "\n",
    "def openfile(filename):\n",
    "    with open(filename, \"r\") as file_reader:\n",
    "        all_lines = file_reader.readlines()\n",
    "    return all_lines"
   ]
  },
  {
   "cell_type": "code",
   "execution_count": 8,
   "id": "ae7c9aea",
   "metadata": {},
   "outputs": [],
   "source": [
    "\"\"\"\n",
    "create_data(data): take parameter data, remove all the newline, space and then convert each line to a tuple\n",
    "create RoadDict dictionary and list of tuple clean_data\n",
    "\"\"\"\n",
    "\n",
    "\n",
    "def create_data(data):\n",
    "    clean_data = []\n",
    "    road_dict = {}\n",
    "    count = 0\n",
    "    # Clean the data by using for loop\n",
    "    for line in data:\n",
    "        line = line.replace('\\n', '').replace(' ', '').split(',')\n",
    "        road_dict[count] = {'human1': line[0], 'human2': line[1], 'points': line[2]}\n",
    "        clean_data.append((line[0], line[1], float(line[2])))\n",
    "        count += 1\n",
    "    return clean_data, road_dict"
   ]
  },
  {
   "cell_type": "code",
   "execution_count": null,
   "id": "0733355f",
   "metadata": {},
   "outputs": [],
   "source": []
  },
  {
   "cell_type": "code",
   "execution_count": 17,
   "id": "5a72520f",
   "metadata": {},
   "outputs": [],
   "source": [
    "graph_data, road_dict= create_data(openfile(\"data.txt\"))"
   ]
  },
  {
   "cell_type": "code",
   "execution_count": 18,
   "id": "7b8aadd4",
   "metadata": {},
   "outputs": [
    {
     "data": {
      "text/plain": [
       "[('Shames', 'Garron', 20.0),\n",
       " ('Shames', 'Truc', 6.0),\n",
       " ('Truc', 'Garron', 14.0),\n",
       " ('Jill', 'Garron', 20.0),\n",
       " ('Garron', 'Emily', 20.0),\n",
       " ('Garron', 'Ann', 20.0),\n",
       " ('Fran', 'Jill', 10.0),\n",
       " ('Ann', 'Tina', 10.0),\n",
       " ('Ann', 'Bill', 10.0),\n",
       " ('Ann', 'Emily2', 30.0)]"
      ]
     },
     "execution_count": 18,
     "metadata": {},
     "output_type": "execute_result"
    }
   ],
   "source": [
    "graph_data"
   ]
  },
  {
   "cell_type": "code",
   "execution_count": 19,
   "id": "db67a73b",
   "metadata": {},
   "outputs": [
    {
     "data": {
      "text/plain": [
       "{0: {'human1': 'Shames', 'human2': 'Garron', 'points': '20'},\n",
       " 1: {'human1': 'Shames', 'human2': 'Truc', 'points': '6'},\n",
       " 2: {'human1': 'Truc', 'human2': 'Garron', 'points': '14'},\n",
       " 3: {'human1': 'Jill', 'human2': 'Garron', 'points': '20'},\n",
       " 4: {'human1': 'Garron', 'human2': 'Emily', 'points': '20'},\n",
       " 5: {'human1': 'Garron', 'human2': 'Ann', 'points': '20'},\n",
       " 6: {'human1': 'Fran', 'human2': 'Jill', 'points': '10'},\n",
       " 7: {'human1': 'Ann', 'human2': 'Tina', 'points': '10'},\n",
       " 8: {'human1': 'Ann', 'human2': 'Bill', 'points': '10'},\n",
       " 9: {'human1': 'Ann', 'human2': 'Emily2', 'points': '30'}}"
      ]
     },
     "execution_count": 19,
     "metadata": {},
     "output_type": "execute_result"
    }
   ],
   "source": [
    "road_dict"
   ]
  },
  {
   "cell_type": "code",
   "execution_count": 20,
   "id": "e0606a3c",
   "metadata": {},
   "outputs": [],
   "source": [
    "# create multi graph using networkx\n",
    "multi_graph = nx.MultiGraph()\n",
    "multi_graph.add_weighted_edges_from(graph_data)"
   ]
  },
  {
   "cell_type": "code",
   "execution_count": 21,
   "id": "b2ab5f96",
   "metadata": {},
   "outputs": [],
   "source": [
    "# Convert the graph to dictionary with weight\n",
    "multi_graph_dict = dict(multi_graph.degree(weight='weight'))"
   ]
  },
  {
   "cell_type": "code",
   "execution_count": 22,
   "id": "330168c0",
   "metadata": {},
   "outputs": [],
   "source": [
    "# create a list of pair\n",
    "list_of_pair = []\n",
    "for data in graph_data:\n",
    "    list_of_pair.append([data[0],data[1]])"
   ]
  },
  {
   "cell_type": "code",
   "execution_count": 23,
   "id": "6769cb06",
   "metadata": {},
   "outputs": [
    {
     "data": {
      "image/png": "[encoded data removed]",
      "text/plain": [
       "<Figure size 432x288 with 1 Axes>"
      ]
     },
     "metadata": {},
     "output_type": "display_data"
    }
   ],
   "source": [
    "nx.draw(multi_graph, with_labels=True, font_weight='bold')\n",
    "plt.show()"
   ]
  },
  {
   "cell_type": "markdown",
   "id": "7bf69513",
   "metadata": {},
   "source": [
    "- Taking 2 coordinates using the straight line.\n"
   ]
  }
 ],
 "metadata": {
  "kernelspec": {
   "display_name": "Python 3",
   "language": "python",
   "name": "python3"
  },
  "language_info": {
   "codemirror_mode": {
    "name": "ipython",
    "version": 3
   },
   "file_extension": ".py",
   "mimetype": "text/x-python",
   "name": "python",
   "nbconvert_exporter": "python",
   "pygments_lexer": "ipython3",
   "version": "3.8.8"
  }
 },
 "nbformat": 4,
 "nbformat_minor": 5
}
